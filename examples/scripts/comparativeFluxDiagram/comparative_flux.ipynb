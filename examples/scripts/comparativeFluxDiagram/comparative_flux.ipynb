{
 "cells": [
  {
   "cell_type": "markdown",
   "id": "374ac04d",
   "metadata": {},
   "source": [
    "# Notebook to compare a new mechanism to Aramco butane"
   ]
  },
  {
   "cell_type": "code",
   "execution_count": 1,
   "id": "e35729eb",
   "metadata": {},
   "outputs": [
    {
     "name": "stdout",
     "output_type": "stream",
     "text": [
      "Loading DFT database from /home/moon/autoscience/autoscience_workflow/database\n"
     ]
    }
   ],
   "source": [
    "import os\n",
    "import sys\n",
    "import numpy as np\n",
    "import pydot\n",
    "import rmgpy.tools.fluxdiagram\n",
    "import rmgpy.chemkin\n",
    "import copy\n",
    "\n",
    "import matplotlib\n",
    "import matplotlib.pyplot as plt\n",
    "%matplotlib inline\n",
    "\n",
    "\n",
    "\n",
    "sys.path.append('/home/moon/autoscience/autoscience_workflow/database')\n",
    "import database_fun"
   ]
  },
  {
   "cell_type": "markdown",
   "id": "8f10109b",
   "metadata": {},
   "source": [
    "### Settings"
   ]
  },
  {
   "cell_type": "code",
   "execution_count": 2,
   "id": "61772be5",
   "metadata": {},
   "outputs": [],
   "source": [
    "# Options controlling the individual flux diagram renderings:\n",
    "program = 'dot'  # The program to use to lay out the nodes and edges\n",
    "max_node_count = 50  # The maximum number of nodes to show in the diagram\n",
    "max_edge_count = 50  # The maximum number of edges to show in the diagram\n",
    "concentration_tol = 1e-6  # The lowest fractional concentration to show (values below this will appear as zero)\n",
    "species_rate_tol = 1e-6  # The lowest fractional species rate to show (values below this will appear as zero)\n",
    "max_node_pen_width = 7.0  # The thickness of the border around a node at maximum concentration\n",
    "max_edge_pen_width = 9.0  # The thickness of the edge at maximum species rate\n",
    "radius = 1  # The graph radius to plot around a central species\n",
    "central_reaction_count = None  # The maximum number of reactions to draw from each central species (None draws all)\n",
    "# If radius > 1, then this is the number of reactions from every species\n",
    "\n",
    "# Options controlling the ODE simulations:\n",
    "initial_time = 1e-12  # The time at which to initiate the simulation, in seconds\n",
    "time_step = 10 ** 0.1  # The multiplicative factor to use between consecutive time points\n",
    "abs_tol = 1e-16  # The absolute tolerance to use in the ODE simluations\n",
    "rel_tol = 1e-8  # The relative tolerance to use in the ODE simulations\n",
    "\n",
    "# Options controlling the generated movie:\n",
    "video_fps = 6  # The number of frames per second in the generated movie\n",
    "initial_padding = 5  # The number of seconds to display the initial fluxes at the start of the video\n",
    "final_padding = 5  # The number of seconds to display the final fluxes at the end of the video\n",
    "\n",
    "\n",
    "# species_path = None\n",
    "java = False            # always False\n",
    "settings = None\n",
    "chemkin_output = ''     # this will be generated automatically\n",
    "central_species_list = None\n",
    "superimpose = False     # this will always be false, delete it\n",
    "save_states = False\n",
    "read_states = False     # fine to keep this always false and delete relevant code below\n",
    "diffusion_limited = True\n",
    "check_duplicates = True"
   ]
  },
  {
   "cell_type": "code",
   "execution_count": null,
   "id": "1cfd9fd7",
   "metadata": {},
   "outputs": [],
   "source": []
  },
  {
   "cell_type": "code",
   "execution_count": null,
   "id": "6086f910",
   "metadata": {},
   "outputs": [],
   "source": []
  },
  {
   "cell_type": "markdown",
   "id": "daa563d4",
   "metadata": {},
   "source": [
    "### Load Mechanisms"
   ]
  },
  {
   "cell_type": "code",
   "execution_count": 3,
   "id": "5b3d5f79",
   "metadata": {},
   "outputs": [
    {
     "name": "stdout",
     "output_type": "stream",
     "text": [
      "Loading RMG job 1...\n"
     ]
    },
    {
     "name": "stderr",
     "output_type": "stream",
     "text": [
      "WARNING:root:Initial mole fractions do not sum to one; normalizing.\n",
      "WARNING:root:Generate Output HTML option was turned on. Note that this will slow down model generation.\n",
      "WARNING:root:Edge species saving was turned on. This will slow down model generation for large simulations.\n",
      "WARNING:root:Initial mole fractions do not sum to one; normalizing.\n",
      "WARNING:root:Generate Output HTML option was turned on. Note that this will slow down model generation.\n",
      "WARNING:root:Edge species saving was turned on. This will slow down model generation for large simulations.\n"
     ]
    },
    {
     "name": "stdout",
     "output_type": "stream",
     "text": [
      "Loading RMG job 2...\n"
     ]
    }
   ],
   "source": [
    "# rmg_input_file = '/home/moon/autoscience/fuels/simplified_input_959.py'  # for conditions T = 959, P = 10 atm\n",
    "rmg_input_file = '/home/moon/autoscience/fuels/simplified_input.py'  # for conditions T = 830, P = 10 atm\n",
    "\n",
    "\n",
    "\n",
    "diagram_base_name = 'current_vs_20240423'\n",
    "os.makedirs(diagram_base_name, exist_ok=True)\n",
    "\n",
    "mech_1_inp = '/home/moon/autoscience/compare_to_aramco/rmg_min_4/chem_annotated.inp'\n",
    "mech_1_dict = '/home/moon/autoscience/compare_to_aramco/rmg_min_4/species_dictionary.txt'\n",
    "mech_1_label = 'RMG-min-4'\n",
    "t1_ignition = 0.06535855787324196  # the ignition time for Aramco\n",
    "\n",
    "\n",
    "# --------------------------------- EDIT THIS ----------------------------\n",
    "mech_2_inp = '/home/moon/autoscience/compare_to_aramco/rmg_min_4_20240423/chem_annotated.inp'\n",
    "mech_2_dict = '/home/moon/autoscience/compare_to_aramco/rmg_min_4_20240423/species_dictionary.txt'\n",
    "mech_2_label = 'RMG-min-4 20240423'\n",
    "t2_ignition = 0.06535855787324196  # still manually entered\n",
    "\n",
    "# diagram_base_name = 'concat_compare_ks'\n",
    "# os.makedirs(diagram_base_name, exist_ok=True)\n",
    "\n",
    "# mech_1_inp = '/home/moon/autoscience/compare_to_aramco/concat_compare/chem_4p0.inp'\n",
    "# mech_1_dict = '/home/moon/autoscience/compare_to_aramco/concat_compare/species_dictionary.txt'\n",
    "# mech_1_label = 'k4.0'\n",
    "# t1_ignition = 0.06535855787324196  # the ignition time for Aramco\n",
    "\n",
    "\n",
    "# # --------------------------------- EDIT THIS ----------------------------\n",
    "# mech_2_inp = '/home/moon/autoscience/compare_to_aramco/concat_compare/chem_7p0.inp'\n",
    "# mech_2_dict = '/home/moon/autoscience/compare_to_aramco/concat_compare/species_dictionary.txt'\n",
    "# mech_2_label = 'k7.0'\n",
    "# t2_ignition = 0.06535855787324196  # still manually entered\n",
    "\n",
    "\n",
    "# diagram_base_name = 'flux_diagram_mins'\n",
    "# os.makedirs(diagram_base_name, exist_ok=True)\n",
    "\n",
    "# mech_1_inp = '/home/moon/autoscience/compare_to_aramco/rmg_min_3/chem_annotated.inp'\n",
    "# mech_1_dict = '/home/moon/autoscience/compare_to_aramco/rmg_min_3/species_dictionary.txt'\n",
    "# mech_1_label = 'RMG-min-3'\n",
    "# t1_ignition = 0.06535855787324196  # the ignition time for Aramco\n",
    "\n",
    "\n",
    "# # --------------------------------- EDIT THIS ----------------------------\n",
    "# mech_2_inp = '/home/moon/autoscience/compare_to_aramco/rmg_min_4/chem_annotated.inp'\n",
    "# mech_2_dict = '/home/moon/autoscience/compare_to_aramco/rmg_min_4/species_dictionary.txt'\n",
    "# mech_2_label = 'RMG-min-4'\n",
    "# t2_ignition = 0.06535855787324196  # still manually entered\n",
    "\n",
    "\n",
    "generate_images = False\n",
    "species_path = '/home/moon/autoscience/fuels/species'\n",
    "print('Loading RMG job 1...')\n",
    "rmg_job1 = rmgpy.tools.fluxdiagram.load_rmg_job(\n",
    "    rmg_input_file,\n",
    "    mech_1_inp,\n",
    "    mech_1_dict,\n",
    "    generate_images=generate_images,\n",
    "    check_duplicates=check_duplicates\n",
    ")\n",
    "\n",
    "print('Loading RMG job 2...')\n",
    "rmg_job2 = rmgpy.tools.fluxdiagram.load_rmg_job(\n",
    "    rmg_input_file,\n",
    "    mech_2_inp,\n",
    "    mech_2_dict,\n",
    "    generate_images=generate_images,\n",
    "    check_duplicates=check_duplicates\n",
    ")\n"
   ]
  },
  {
   "cell_type": "markdown",
   "id": "5d809318",
   "metadata": {},
   "source": [
    "### Simulation"
   ]
  },
  {
   "cell_type": "code",
   "execution_count": 4,
   "id": "d90181ac",
   "metadata": {},
   "outputs": [
    {
     "name": "stdout",
     "output_type": "stream",
     "text": [
      "Conducting simulation of reaction 1\n",
      "Conducting simulation of reaction 2\n"
     ]
    }
   ],
   "source": [
    "print('Conducting simulation of reaction 1')\n",
    "times1, concentrations1, reaction_rates1 = rmgpy.tools.fluxdiagram.simulate(\n",
    "    rmg_job1.reaction_model,\n",
    "    rmg_job1.reaction_systems[0],\n",
    "    settings\n",
    ")\n",
    "\n",
    "print('Conducting simulation of reaction 2')\n",
    "times2, concentrations2, reaction_rates2 = rmgpy.tools.fluxdiagram.simulate(\n",
    "    rmg_job2.reaction_model,\n",
    "    rmg_job2.reaction_systems[0],\n",
    "    settings\n",
    ")\n"
   ]
  },
  {
   "cell_type": "code",
   "execution_count": 5,
   "id": "9d59249d",
   "metadata": {},
   "outputs": [
    {
     "data": {
      "text/plain": [
       "(121,)"
      ]
     },
     "execution_count": 5,
     "metadata": {},
     "output_type": "execute_result"
    }
   ],
   "source": [
    "times1.shape"
   ]
  },
  {
   "cell_type": "code",
   "execution_count": 6,
   "id": "c0e9deaa",
   "metadata": {},
   "outputs": [
    {
     "data": {
      "text/plain": [
       "0.6311858602617695"
      ]
     },
     "execution_count": 6,
     "metadata": {},
     "output_type": "execute_result"
    }
   ],
   "source": [
    "times1[-3]"
   ]
  },
  {
   "cell_type": "markdown",
   "id": "d4afb9ab",
   "metadata": {},
   "source": [
    "### Compute/assemble species concentrations and fluxes into convenient form"
   ]
  },
  {
   "cell_type": "code",
   "execution_count": 7,
   "id": "98ed8c39",
   "metadata": {},
   "outputs": [],
   "source": [
    "# Get the RMG species and reactions objects\n",
    "species_list1 = rmg_job1.reaction_model.core.species[:]\n",
    "reaction_list1 = rmg_job1.reaction_model.core.reactions[:]\n",
    "num_species1 = len(species_list1)\n",
    "\n",
    "species_list2 = rmg_job2.reaction_model.core.species[:]\n",
    "reaction_list2 = rmg_job2.reaction_model.core.reactions[:]\n",
    "num_species2 = len(species_list2)\n"
   ]
  },
  {
   "cell_type": "code",
   "execution_count": 8,
   "id": "e3bc5d3c",
   "metadata": {},
   "outputs": [],
   "source": [
    "# Compute the rates between each pair of species (build up big matrices)\n",
    "species_rates1 = np.zeros((len(times1), num_species1, num_species1), float)\n",
    "for index1, reaction1 in enumerate(reaction_list1):\n",
    "    rate1 = reaction_rates1[:, index1]\n",
    "    if not reaction1.pairs: reaction1.generate_pairs()\n",
    "    for reactant1, product1 in reaction1.pairs:\n",
    "        reactant_index1 = species_list1.index(reactant1)\n",
    "        product_index1 = species_list1.index(product1)\n",
    "        species_rates1[:, reactant_index1, product_index1] += rate1\n",
    "        species_rates1[:, product_index1, reactant_index1] -= rate1\n",
    "        \n",
    "species_rates2 = np.zeros((len(times2), num_species2, num_species2), float)\n",
    "for index2, reaction2 in enumerate(reaction_list2):\n",
    "    rate2 = reaction_rates2[:, index2]\n",
    "    if not reaction2.pairs: reaction2.generate_pairs()\n",
    "    for reactant2, product2 in reaction2.pairs:\n",
    "        reactant_index2 = species_list2.index(reactant2)\n",
    "        product_index2 = species_list2.index(product2)\n",
    "        species_rates2[:, reactant_index2, product_index2] += rate2\n",
    "        species_rates2[:, product_index2, reactant_index2] -= rate2"
   ]
  },
  {
   "cell_type": "code",
   "execution_count": 9,
   "id": "25a47505",
   "metadata": {},
   "outputs": [],
   "source": [
    "# Determine the maximum concentration for each species and the maximum overall concentration\n",
    "max_concentrations1 = np.max(np.abs(concentrations1), axis=0)\n",
    "max_concentration1 = np.max(max_concentrations1)\n",
    "\n",
    "# Determine the maximum reaction rates\n",
    "max_reaction_rates1 = np.max(np.abs(reaction_rates1), axis=0)\n",
    "\n",
    "# Determine the maximum rate for each species-species pair and the maximum overall species-species rate\n",
    "max_species_rates1 = np.max(np.abs(species_rates1), axis=0)\n",
    "max_species_rate1 = np.max(max_species_rates1)\n",
    "species_index1 = max_species_rates1.reshape((num_species1 * num_species1)).argsort()\n",
    "\n",
    "\n",
    "max_concentrations2 = np.max(np.abs(concentrations2), axis=0)\n",
    "max_concentration2 = np.max(max_concentrations2)\n",
    "\n",
    "# Determine the maximum reaction rates\n",
    "max_reaction_rates2 = np.max(np.abs(reaction_rates2), axis=0)\n",
    "\n",
    "# Determine the maximum rate for each species-species pair and the maximum overall species-species rate\n",
    "max_species_rates2 = np.max(np.abs(species_rates2), axis=0)\n",
    "max_species_rate2 = np.max(max_species_rates2)\n",
    "species_index2 = max_species_rates2.reshape((num_species2 * num_species2)).argsort()\n",
    "\n",
    "\n",
    "max_species_rate_total = max(max_species_rate1, max_species_rate2)\n",
    "max_concentration_total = max(max_concentration1, max_concentration2)"
   ]
  },
  {
   "cell_type": "markdown",
   "id": "c99c23c9",
   "metadata": {},
   "source": [
    "### Determine nodes and edges to include for each model"
   ]
  },
  {
   "cell_type": "code",
   "execution_count": 10,
   "id": "45b39589",
   "metadata": {},
   "outputs": [],
   "source": [
    "nodes1 = []\n",
    "edges1 = []\n",
    "for i in range(num_species1 * num_species1):\n",
    "    product_index1, reactant_index1 = divmod(species_index1[-i - 1], num_species1)\n",
    "    if reactant_index1 > product_index1:\n",
    "        # Both reactant -> product and product -> reactant are in this list, so only keep one of them\n",
    "        continue\n",
    "    if max_species_rates1[reactant_index1, product_index1] == 0:\n",
    "        break\n",
    "    if reactant_index1 not in nodes1 and len(nodes1) < max_node_count: nodes1.append(reactant_index1)\n",
    "    if product_index1 not in nodes1 and len(nodes1) < max_node_count: nodes1.append(product_index1)\n",
    "    if [reactant_index1, product_index1] not in edges1 and [product_index1, reactant_index1] not in edges1:\n",
    "        edges1.append([reactant_index1, product_index1])\n",
    "    if len(nodes1) > max_node_count:\n",
    "        break\n",
    "    if len(edges1) >= max_edge_count:\n",
    "        break\n",
    "        \n",
    "nodes2 = []\n",
    "edges2 = []\n",
    "for i in range(num_species2 * num_species2):\n",
    "    product_index2, reactant_index2 = divmod(species_index2[-i - 1], num_species2)\n",
    "    if reactant_index2 > product_index2:\n",
    "        # Both reactant -> product and product -> reactant are in this list, so only keep one of them\n",
    "        continue\n",
    "    if max_species_rates2[reactant_index2, product_index2] == 0:\n",
    "        break\n",
    "    if reactant_index2 not in nodes2 and len(nodes2) < max_node_count: nodes2.append(reactant_index2)\n",
    "    if product_index2 not in nodes2 and len(nodes2) < max_node_count: nodes2.append(product_index2)\n",
    "    if [reactant_index2, product_index2] not in edges2 and [product_index2, reactant_index2] not in edges2:\n",
    "        edges2.append([reactant_index2, product_index2])\n",
    "    if len(nodes2) > max_node_count:\n",
    "        break\n",
    "    if len(edges2) >= max_edge_count:\n",
    "        break\n",
    "  "
   ]
  },
  {
   "cell_type": "markdown",
   "id": "4c637da2",
   "metadata": {},
   "source": [
    "### create mapping between models"
   ]
  },
  {
   "cell_type": "code",
   "execution_count": 11,
   "id": "c840675a",
   "metadata": {},
   "outputs": [],
   "source": [
    "species2_to_1 = {}\n",
    "species2_to_1 = {key: value for key, value in zip([x for x in range(len(species_list1))], [-1] * len(species_list1))}\n",
    "for i in range(len(species_list2)):\n",
    "    for j in range(len(species_list1)):\n",
    "        if species_list2[i].is_isomorphic(species_list1[j]):\n",
    "            species2_to_1[i] = j\n",
    "            break\n",
    "    else:\n",
    "        species2_to_1[i] = -1\n",
    "\n",
    "species1_to_2 = {}\n",
    "species1_to_2 = {key: value for key, value in zip([x for x in range(len(species_list1))], [-1] * len(species_list1))}\n",
    "for i in range(len(species_list1)):\n",
    "    for j in range(len(species_list2)):\n",
    "        if species_list1[i].is_isomorphic(species_list2[j]):\n",
    "            species1_to_2[i] = j\n",
    "            break\n",
    "    else:\n",
    "        species1_to_2[i] = -1\n"
   ]
  },
  {
   "cell_type": "code",
   "execution_count": null,
   "id": "c1db8a6b",
   "metadata": {},
   "outputs": [],
   "source": []
  },
  {
   "cell_type": "code",
   "execution_count": 12,
   "id": "a5ee763e",
   "metadata": {},
   "outputs": [],
   "source": [
    "# Function to grab and generate the image for a given species\n",
    "def get_image_path(species):\n",
    "    species_index = str(species) + '.png'\n",
    "    image_path = ''\n",
    "    if not species_path or not os.path.exists(species_path):  # species_path is defined while loading the mechanism\n",
    "        raise OSError\n",
    "    for root, dirs, files in os.walk(species_path):\n",
    "        for f in files:\n",
    "            if f == species_index:\n",
    "                image_path = os.path.join(root, f)\n",
    "                break\n",
    "    if not image_path:\n",
    "        image_path = os.path.join(species_path, species_index)\n",
    "        species.molecule[0].draw(image_path)\n",
    "    return image_path"
   ]
  },
  {
   "cell_type": "markdown",
   "id": "999b0c9d",
   "metadata": {},
   "source": [
    "### Build the graph"
   ]
  },
  {
   "cell_type": "code",
   "execution_count": 13,
   "id": "66deaa7f",
   "metadata": {},
   "outputs": [],
   "source": [
    "# Create the graph\n",
    "rmg1_color = matplotlib.colors.to_hex((1.0, 0.92, 0.0))\n",
    "rmg1_color = matplotlib.colors.to_hex(matplotlib.colors.CSS4_COLORS['lawngreen'])\n",
    "rmg7_color = matplotlib.colors.to_hex(matplotlib.colors.CSS4_COLORS['lawngreen'])\n",
    "aramco_color = matplotlib.colors.to_hex((0.18627451, 0.48823529, 0.94117647))\n",
    "aramco_color = matplotlib.colors.to_hex(matplotlib.colors.CSS4_COLORS['fuchsia'])\n",
    "# add alpha specified by adding hex digits before RGB values\n",
    "alpha = 0.9\n",
    "alpha_hex = hex(int(alpha * 255))[2:]\n",
    "aramco_color = f'#{aramco_color[1:]}{alpha_hex}'\n",
    "rmg1_color = f'#{rmg1_color[1:]}{alpha_hex}'\n",
    "rmg7_color = f'#{rmg7_color[1:]}{alpha_hex}'\n",
    "\n",
    "# Grab the fluxes from the time closest (without going over) to official ignition delay time\n",
    "t1 = np.abs(times1 - t1_ignition).argmin()\n",
    "if times1[t1] > t1_ignition:\n",
    "    t1 -= 1\n",
    "t2 = np.abs(times2 - t2_ignition).argmin()\n",
    "if times2[t2] > t2_ignition:\n",
    "    t2 -= 1\n",
    "\n",
    "\n",
    "\n",
    "label_automatically = False  # Turned off because manual labels upset the graph placements less\n",
    "assert -1 not in nodes1\n",
    "assert -1 not in nodes2\n",
    "\n",
    "for t in range(len(times1))[::2]:\n",
    "\n",
    "    t1 = t\n",
    "    t2 = t\n",
    "    slope = -max_node_pen_width / np.log10(concentration_tol)\n",
    "    graph = pydot.Dot('flux_diagram', graph_type='digraph', overlap=\"false\")\n",
    "    graph.set_fontname('sans')\n",
    "    graph.set_fontsize('10')\n",
    "\n",
    "    # ----------------------------ADD NODES ------------------------------#\n",
    "    # For Mechanism 1\n",
    "    for index1 in nodes1:\n",
    "        nodewidths = np.zeros(3)  # keep track of species concentrations/nodewidths for all 3 mechanisms\n",
    "        species1 = species_list1[index1]\n",
    "        node1 = pydot.Node(name=str(species1))\n",
    "        concentration1 = concentrations1[t1, index1] / max_concentration_total\n",
    "        if concentration1 < concentration_tol:\n",
    "            penwidth = 0.0\n",
    "        else:\n",
    "            penwidth = round(slope * np.log10(concentration1) + max_node_pen_width, 3)\n",
    "            nodewidths[0] = penwidth\n",
    "        node1.set_penwidth(penwidth)\n",
    "        node1.set_fillcolor('white')\n",
    "        node1.set_color(aramco_color)\n",
    "        image_path1 = get_image_path(species1)\n",
    "        if os.path.exists(image_path1):\n",
    "            node1.set_image(image_path1)\n",
    "            node1.set_label(\"\")\n",
    "\n",
    "        index2 = species1_to_2[index1]\n",
    "        if index2 >= 0:\n",
    "            concentration2 = concentrations2[t2, index2] / max_concentration_total\n",
    "            if concentration2 < concentration_tol:\n",
    "                penwidth = 0.0\n",
    "            else:\n",
    "                penwidth = round(slope * np.log10(concentration2) + max_node_pen_width, 3)\n",
    "                nodewidths[1] = penwidth\n",
    "                if node1.get_penwidth() > 0:\n",
    "                    node1.set_color('black')\n",
    "                else:\n",
    "                    node1.set_color(rmg1_color)\n",
    "                    node1.set_penwidth(penwidth)\n",
    "\n",
    "\n",
    "        if node1.get_color() == 'black':\n",
    "            node1.set_penwidth(np.average(nodewidths))\n",
    "        graph.add_node(node1)\n",
    "\n",
    "    # For Mechanism 2\n",
    "    for index2 in nodes2:\n",
    "        if species2_to_1[index2] in nodes1:\n",
    "            continue  # already took care of it above\n",
    "\n",
    "        nodewidths = np.zeros(3)\n",
    "        species2 = species_list2[index2]\n",
    "        node2 = pydot.Node(name=str(species2))\n",
    "        concentration2 = concentrations2[t2, index2] / max_concentration_total\n",
    "        if concentration2 < concentration_tol:\n",
    "            penwidth = 0.0\n",
    "        else:\n",
    "            penwidth = round(slope * np.log10(concentration2) + max_node_pen_width, 3)\n",
    "            nodewidths[1] = penwidth\n",
    "        node2.set_fillcolor('white')\n",
    "        node2.set_color(rmg1_color)\n",
    "        node2.set_penwidth(penwidth)\n",
    "        # Try to use an image instead of the label\n",
    "        image_path2 = get_image_path(species2)\n",
    "        if os.path.exists(image_path2):\n",
    "            node2.set_image(image_path2)\n",
    "            node2.set_label(\"\")\n",
    "\n",
    "\n",
    "        if node2.get_color() == 'black':\n",
    "            node2.set_penwidth(np.average(nodewidths))\n",
    "\n",
    "        graph.add_node(node2)\n",
    "\n",
    "\n",
    "\n",
    "    # ------------------------------- EDGES ------------------------------#\n",
    "    # Add an edge for each species-species rate\n",
    "    slope = -max_edge_pen_width / np.log10(species_rate_tol)\n",
    "\n",
    "    # Go through edges in Mechanism 1\n",
    "    for reactant_index1, product_index1 in edges1:\n",
    "        if reactant_index1 in nodes1 and product_index1 in nodes1:\n",
    "            reactant1 = species_list1[reactant_index1]\n",
    "            product1 = species_list1[product_index1]\n",
    "            label1 = ''\n",
    "\n",
    "            edge1 = pydot.Edge(str(reactant1), str(product1), color=aramco_color)\n",
    "            species_rate1 = species_rates1[t1, reactant_index1, product_index1] / max_species_rate_total\n",
    "            if species_rate1 < 0:\n",
    "                edge1.set_dir(\"back\")\n",
    "                species_rate1 = -species_rate1\n",
    "            else:\n",
    "                edge1.set_dir(\"forward\")\n",
    "            # Set the edge pen width\n",
    "            if species_rate1 < species_rate_tol:\n",
    "                penwidth = 0.0\n",
    "                edge1.set_dir(\"none\")\n",
    "            else:\n",
    "                penwidth = round(slope * np.log10(species_rate1) + max_edge_pen_width, 3)\n",
    "            edge1.set_penwidth(penwidth)\n",
    "            if label1 and label_automatically:\n",
    "                edge1.set_decorate(True)\n",
    "                edge1.set_label(label1)\n",
    "\n",
    "            graph.add_edge(edge1)\n",
    "\n",
    "            # add mech 2\n",
    "            if species1_to_2[reactant_index1] >= 0 and species1_to_2[product_index1] >= 0:\n",
    "                reactant_index2 = species1_to_2[reactant_index1]\n",
    "                product_index2 = species1_to_2[product_index1]\n",
    "\n",
    "                edge2 = pydot.Edge(str(reactant1), str(product1), color=rmg1_color)\n",
    "                species_rate2 = species_rates2[t2, reactant_index2, product_index2] / max_species_rate_total\n",
    "                if species_rate2 < 0:\n",
    "                    edge2.set_dir(\"back\")\n",
    "                    species_rate2 = -species_rate2\n",
    "                else:\n",
    "                    edge2.set_dir(\"forward\")\n",
    "                # Set the edge pen width\n",
    "                if species_rate2 < species_rate_tol:\n",
    "                    penwidth = 0.0\n",
    "                    edge2.set_dir(\"none\")\n",
    "                else:\n",
    "                    penwidth = round(slope * np.log10(species_rate2) + max_edge_pen_width, 3)\n",
    "                edge2.set_penwidth(penwidth)\n",
    "                graph.add_edge(edge2)\n",
    "\n",
    "    # Go through edges in Mechanism 2\n",
    "    for reactant_index2, product_index2 in edges2:\n",
    "        # skip if this was already done in edges 1\n",
    "        if [species2_to_1[reactant_index2], species2_to_1[product_index2]] in edges1 or \\\n",
    "            [species2_to_1[product_index2], species2_to_1[reactant_index2]] in edges1:\n",
    "            continue\n",
    "\n",
    "        if reactant_index2 in nodes2 and product_index2 in nodes2:\n",
    "            # mech 2 says include this edge for all mechs\n",
    "            if species2_to_1[reactant_index2] in nodes1:\n",
    "                reactant2 = species_list1[species2_to_1[reactant_index2]]\n",
    "            else:\n",
    "                reactant2 = species_list2[reactant_index2]\n",
    "            if species2_to_1[product_index2] in nodes1:\n",
    "                product2 = species_list1[species2_to_1[product_index2]]\n",
    "            else:\n",
    "                product2 = species_list2[product_index2]\n",
    "            edge2 = pydot.Edge(str(reactant2), str(product2), color=rmg1_color)\n",
    "\n",
    "            species_rate2 = species_rates2[t2, reactant_index2, product_index2] / max_species_rate_total\n",
    "            if species_rate2 < 0:\n",
    "                edge2.set_dir(\"back\")\n",
    "                species_rate2 = -species_rate2\n",
    "            else:\n",
    "                edge2.set_dir(\"forward\")\n",
    "            # Set the edge pen width\n",
    "            if species_rate2 < species_rate_tol:\n",
    "                penwidth = 0.0\n",
    "                edge2.set_dir(\"none\")\n",
    "            else:\n",
    "                penwidth = round(slope * np.log10(species_rate2) + max_edge_pen_width, 3)\n",
    "\n",
    "\n",
    "\n",
    "            edge2.set_penwidth(penwidth)\n",
    "            graph.add_edge(edge2)\n",
    "\n",
    "            # add mech 1\n",
    "            if species2_to_1[reactant_index2] >= 0 and species2_to_1[product_index2] >= 0:\n",
    "                reactant_index1 = species2_to_1[reactant_index2]\n",
    "                product_index1 = species2_to_1[product_index2]\n",
    "\n",
    "                edge1 = pydot.Edge(str(reactant2), str(product2), color=aramco_color)\n",
    "                species_rate1 = species_rates1[t1, reactant_index1, product_index1] / max_species_rate_total\n",
    "                if species_rate1 < 0:\n",
    "                    edge1.set_dir(\"back\")\n",
    "                    species_rate1 = -species_rate1\n",
    "                else:\n",
    "                    edge1.set_dir(\"forward\")\n",
    "                # Set the edge pen width\n",
    "                if species_rate1 < species_rate_tol:\n",
    "                    penwidth = 0.0\n",
    "                    edge1.set_dir(\"none\")\n",
    "                else:\n",
    "                    penwidth = round(slope * np.log10(species_rate1) + max_edge_pen_width, 3)\n",
    "                edge1.set_penwidth(penwidth)\n",
    "                label2 = ''\n",
    "                if label2 and label_automatically:\n",
    "                    edge1.set_decorate(True)\n",
    "                    edge1.set_label(label2)\n",
    "                graph.add_edge(edge1)\n",
    "\n",
    "\n",
    "    # General purpose graph settings\n",
    "    graph.set_nodesep(0.11)\n",
    "    graph.set_ranksep(0.35)\n",
    "    graph.set_rankdir('LR')\n",
    "\n",
    "    # Add Legend\n",
    "    graph.add_node(pydot.Node(mech_1_label + f'\\nt={times1[t1]:.4e}', label=mech_1_label + f'\\nt={times1[t1]:.4e}', color=aramco_color, shape='box', penwidth=max_node_pen_width))\n",
    "    graph.add_node(pydot.Node(mech_2_label + f'\\nt={times2[t2]:.4e}', label=mech_2_label + f'\\nt={times2[t2]:.4e}', color=rmg1_color, shape='box', penwidth=max_node_pen_width))\n",
    "\n",
    "\n",
    "    # write in multiple formats\n",
    "    graph.write_dot(os.path.join(diagram_base_name, f'{diagram_base_name}_{t1}.dot')) # Yes this is supposed to be an index, not an actual time\n",
    "    graph.write_png(os.path.join(diagram_base_name, f'{diagram_base_name}_{t1}.png'))\n",
    "    # graph.write_pdf(os.path.join(diagram_base_name, f'{diagram_base_name}_{t1}.pdf'))\n",
    "    # graph.write_pdf(os.path.join(diagram_base_name, f'{diagram_base_name}_{t1}.svg'))\n",
    "\n",
    "\n"
   ]
  },
  {
   "cell_type": "code",
   "execution_count": 22,
   "id": "e87181e5",
   "metadata": {},
   "outputs": [],
   "source": [
    "def get_i_thing(thing, thing_list):\n",
    "    for i in range(len(thing_list)):\n",
    "        if thing.is_isomorphic(thing_list[i]):\n",
    "            return i\n",
    "    return -1"
   ]
  },
  {
   "cell_type": "code",
   "execution_count": null,
   "id": "56999c5d",
   "metadata": {},
   "outputs": [],
   "source": []
  },
  {
   "cell_type": "code",
   "execution_count": null,
   "id": "45dd8b0f",
   "metadata": {},
   "outputs": [],
   "source": []
  },
  {
   "cell_type": "code",
   "execution_count": 43,
   "id": "66e7d136",
   "metadata": {},
   "outputs": [
    {
     "name": "stdout",
     "output_type": "stream",
     "text": [
      "853 O2(2) + C[CH]CC(23)(18) <=> OH(15) + CC1CCO1(68)\n",
      "854 CCC(C)O[O](43) <=> OH(15) + CC1CCO1(68)\n",
      "855 [CH2]CC(C)OO(62) <=> OH(15) + CC1CCO1(68)\n",
      "856 HO2(16) + C4H8(47)(20) <=> OH(15) + CC1CCO1(68)\n",
      "857 HO2(16) + CC=CC(35) <=> OH(15) + CC1CCO1(68)\n",
      "858 HO2(16) + C4H8(47)(20) <=> OH(15) + CC1CCO1(68)\n",
      "859 O2(2) + [CH2]CCC(24)(19) <=> OH(15) + CC1CCO1(68)\n",
      "860 CCCCO[O](215)(22) <=> OH(15) + CC1CCO1(68)\n",
      "861 C[CH]CCOO(335) <=> OH(15) + CC1CCO1(68)\n",
      "862 [CH2]CCCOO(336) <=> OH(15) + CC1CCO1(68)\n",
      "863 CC1CCO1(68) <=> CH2O(9) + C3H6(12)\n",
      "864 CC1CCO1(68) <=> C2H4(11) + CC=O(376)\n",
      "865 OH(15) + CC1CCO1(68) <=> [O]CCCCO(365)\n",
      "866 OH(15) + CC1CCO1(68) <=> CH2O(9) + [CH2]CCO(2744)\n",
      "870 OH(15) + CC1CCO1(68) <=> O(5) + CCC(C)[O](44)\n",
      "871 OH(15) + CC1CCO1(68) <=> O(5) + CCCC[O](330)\n",
      "872 OH(15) + CC1CCO1(68) <=> O(5) + [CH2]CCCO(2485)\n",
      "928 [CH2]CC(C)[O](71) <=> CC1CCO1(68)\n",
      "929 O2(2) + CC1CCO1(68) <=> O2(2) + [CH2]CC(C)[O](71)\n",
      "930 OH(15) + CC1CCO1(68) <=> OH(15) + [CH2]CC(C)[O](71)\n",
      "931 HO2(16) + CC1CCO1(68) <=> HO2(16) + [CH2]CC(C)[O](71)\n",
      "1253 C[CH]C(C)OO(60) <=> OH(15) + CC1CCO1(68)\n",
      "1395 OH(15) + CC1CCO1(68) <=> [CH2]-2(66) + [CH2]C(C)OO(65)\n",
      "1396 OH(15) + CC1CCO1(68) <=> [CH2]-2(66) + [CH2]CCOO(64)\n",
      "1397 CC1CCO1(68) <=> [CH2]-2(66) + [CH2]C(C)[O](379)\n",
      "1786 C2H4(11) + C=CO(394) <=> CC1CCO1(68)\n",
      "2092 CC1CCO1(68) <=> H(14) + C=CC(C)[O](1473)\n",
      "2721 OH(15) + CC1CCO1(68) <=> HO2(16) + [CH2]C[CH]C(38)\n",
      "2722 OH(15) + CC1CCO1(68) <=> HO2(16) + [CH2]C[CH]C(38)\n",
      "2725 CC1CCO1(68) <=> O(5) + [CH2]C[CH]C(38)\n"
     ]
    }
   ],
   "source": [
    "sp70 = species_list2[get_i_thing(rmgpy.species.Species(smiles='C[CH]CCOO'), species_list2)]\n",
    "sp68 = species_list2[get_i_thing(rmgpy.species.Species(smiles='CC1CCO1'), species_list2)]\n",
    "\n",
    "PC4H9 = species_list2[get_i_thing(rmgpy.species.Species(smiles='[CH2]CCC'), species_list2)]\n",
    "butane = species_list2[get_i_thing(rmgpy.species.Species(smiles='CCCC'), species_list2)]\n",
    "\n",
    "OH = species_list2[get_i_thing(rmgpy.species.Species(smiles='[OH]'), species_list2)]\n",
    "HO2 = species_list2[get_i_thing(rmgpy.species.Species(smiles='O[O]'), species_list2)]\n",
    "H2O2 = species_list2[get_i_thing(rmgpy.species.Species(smiles='OO'), species_list2)]\n",
    "\n",
    "for i in range(len(reaction_list2)):\n",
    "    \n",
    "    if sp68 in reaction_list2[i].reactants + reaction_list2[i].products:\n",
    "        print(i, reaction_list2[i])\n",
    "    \n",
    "#     if sp70 in reaction_list2[i].reactants and sp68 in reaction_list2[i].products or \\\n",
    "#             sp68 in reaction_list2[i].reactants and sp70 in reaction_list2[i].products:\n",
    "        \n",
    "# #         if HO2 in reaction_list2[i].reactants + reaction_list2[i].products or H2O2 in reaction_list2[i].reactants + reaction_list2[i].products:\n",
    "        \n",
    "#         print(i, reaction_list2[i])\n",
    "    \n",
    "    \n",
    "#     print(reaction_list2[i])"
   ]
  },
  {
   "cell_type": "code",
   "execution_count": 44,
   "id": "0ae77f80",
   "metadata": {},
   "outputs": [
    {
     "data": {
      "text/plain": [
       "452"
      ]
     },
     "execution_count": 44,
     "metadata": {},
     "output_type": "execute_result"
    }
   ],
   "source": [
    "database_fun.get_unique_reaction_index(reaction_list2[864])"
   ]
  },
  {
   "cell_type": "code",
   "execution_count": 39,
   "id": "5eec2064",
   "metadata": {},
   "outputs": [
    {
     "data": {
      "image/png": "[encoded data removed]",
      "text/plain": [
       "Reaction(reactants=[Species(label=\"\", molecule=[Molecule(smiles=\"C[CH]CCOO\")], molecular_weight=(89.1131,'amu'))], products=[Species(label=\"\", molecule=[Molecule(smiles=\"[OH]\")], molecular_weight=(17.0074,'amu')), Species(label=\"\", molecule=[Molecule(smiles=\"CC1CCO1\")], molecular_weight=(72.1057,'amu'))],)"
      ]
     },
     "execution_count": 39,
     "metadata": {},
     "output_type": "execute_result"
    }
   ],
   "source": [
    "database_fun.index2reaction(449)"
   ]
  },
  {
   "cell_type": "code",
   "execution_count": 45,
   "id": "0c3c0eb5",
   "metadata": {},
   "outputs": [
    {
     "data": {
      "image/png": "[encoded data removed]",
      "text/plain": [
       "Reaction(reactants=[Species(label=\"\", molecule=[Molecule(smiles=\"CC1CCO1\")], molecular_weight=(72.1057,'amu'))], products=[Species(label=\"\", molecule=[Molecule(smiles=\"C=C\")], molecular_weight=(28.0532,'amu')), Species(label=\"\", molecule=[Molecule(smiles=\"CC=O\")], molecular_weight=(44.0526,'amu'))],)"
      ]
     },
     "execution_count": 45,
     "metadata": {},
     "output_type": "execute_result"
    }
   ],
   "source": [
    "database_fun.index2reaction(452)"
   ]
  },
  {
   "cell_type": "code",
   "execution_count": 41,
   "id": "5c69bb9c",
   "metadata": {},
   "outputs": [
    {
     "data": {
      "text/plain": [
       "-1"
      ]
     },
     "execution_count": 41,
     "metadata": {},
     "output_type": "execute_result"
    }
   ],
   "source": [
    "get_i_thing(database_fun.index2reaction(449), reaction_list1)"
   ]
  },
  {
   "cell_type": "code",
   "execution_count": 37,
   "id": "1918b52f",
   "metadata": {},
   "outputs": [
    {
     "data": {
      "image/png": "[encoded data removed]",
      "text/plain": [
       "Reaction(index=871, reactants=[Species(index=335, label=\"C[CH]CCOO\", thermo=NASA(polynomials=[NASAPolynomial(coeffs=[3.11764,0.0879391,-0.000267619,5.20505e-07,-3.75924e-10,-4106.11,13.9493], Tmin=(10,'K'), Tmax=(441.37,'K')), NASAPolynomial(coeffs=[4.51461,0.0461936,-2.68992e-05,7.60328e-09,-8.35884e-13,-3946.13,11.5616], Tmin=(441.37,'K'), Tmax=(3000,'K'))], Tmin=(10,'K'), Tmax=(3000,'K'), comment=\"\"\"Thermo library: harris_butane_min_0003\"\"\"), molecule=[Molecule(smiles=\"C[CH]CCOO\")], molecular_weight=(89.1131,'amu'))], products=[Species(index=15, label=\"OH\", thermo=NASA(polynomials=[NASAPolynomial(coeffs=[3.4858,0.00133396,-4.70042e-06,5.64378e-09,-2.06317e-12,3411.96,1.99788], Tmin=(100,'K'), Tmax=(1005.25,'K')), NASAPolynomial(coeffs=[2.88225,0.00103869,-2.35653e-07,1.40232e-11,6.3456e-16,3669.56,5.59054], Tmin=(1005.25,'K'), Tmax=(5000,'K'))], Tmin=(100,'K'), Tmax=(5000,'K'), comment=\"\"\"Thermo library: BurkeH2O2\"\"\"), molecule=[Molecule(smiles=\"[OH]\")], molecular_weight=(17.0074,'amu')), Species(index=68, label=\"CC1CCO1\", thermo=NASA(polynomials=[NASAPolynomial(coeffs=[2.60715,0.0163699,6.5647e-05,-9.99119e-08,4.19663e-11,-15901.6,14.375], Tmin=(100,'K'), Tmax=(884.96,'K')), NASAPolynomial(coeffs=[10.4297,0.018945,-3.01355e-06,2.48219e-10,-1.18959e-14,-18771.5,-30.8005], Tmin=(884.96,'K'), Tmax=(5000,'K'))], Tmin=(100,'K'), Tmax=(5000,'K'), comment=\"\"\"Thermo group additivity estimation: group(O2s-CsCs) + group(Cs-CsCsOsH) + group(Cs-CsCsHH) + group(Cs-CsOsHH) + group(Cs-CsHHH) + ring(Oxetane)\"\"\"), molecule=[Molecule(smiles=\"CC1CCO1\")], molecular_weight=(72.1057,'amu'))], kinetics=Chebyshev(coeffs=[[3.296,0.6082,-0.2384,0.03485],[5.363,0.2843,-0.02587,-0.03115],[-0.2324,0.2773,-0.04887,-0.01304],[-0.1287,0.135,-0.005124,-0.0138],[-0.03782,0.01355,0.02794,-0.01007],[-0.01317,-0.007775,0.02074,-0.002592]], kunits='s^-1', Tmin=(300,'K'), Tmax=(2000,'K'), Pmin=(0.01,'atm'), Pmax=(98.692,'atm')), pairs=[(Species(index=335, label=\"C[CH]CCOO\", thermo=NASA(polynomials=[NASAPolynomial(coeffs=[3.11764,0.0879391,-0.000267619,5.20505e-07,-3.75924e-10,-4106.11,13.9493], Tmin=(10,'K'), Tmax=(441.37,'K')), NASAPolynomial(coeffs=[4.51461,0.0461936,-2.68992e-05,7.60328e-09,-8.35884e-13,-3946.13,11.5616], Tmin=(441.37,'K'), Tmax=(3000,'K'))], Tmin=(10,'K'), Tmax=(3000,'K'), comment=\"\"\"Thermo library: harris_butane_min_0003\"\"\"), molecule=[Molecule(smiles=\"C[CH]CCOO\")], molecular_weight=(89.1131,'amu')), Species(index=15, label=\"OH\", thermo=NASA(polynomials=[NASAPolynomial(coeffs=[3.4858,0.00133396,-4.70042e-06,5.64378e-09,-2.06317e-12,3411.96,1.99788], Tmin=(100,'K'), Tmax=(1005.25,'K')), NASAPolynomial(coeffs=[2.88225,0.00103869,-2.35653e-07,1.40232e-11,6.3456e-16,3669.56,5.59054], Tmin=(1005.25,'K'), Tmax=(5000,'K'))], Tmin=(100,'K'), Tmax=(5000,'K'), comment=\"\"\"Thermo library: BurkeH2O2\"\"\"), molecule=[Molecule(smiles=\"[OH]\")], molecular_weight=(17.0074,'amu'))), (Species(index=335, label=\"C[CH]CCOO\", thermo=NASA(polynomials=[NASAPolynomial(coeffs=[3.11764,0.0879391,-0.000267619,5.20505e-07,-3.75924e-10,-4106.11,13.9493], Tmin=(10,'K'), Tmax=(441.37,'K')), NASAPolynomial(coeffs=[4.51461,0.0461936,-2.68992e-05,7.60328e-09,-8.35884e-13,-3946.13,11.5616], Tmin=(441.37,'K'), Tmax=(3000,'K'))], Tmin=(10,'K'), Tmax=(3000,'K'), comment=\"\"\"Thermo library: harris_butane_min_0003\"\"\"), molecule=[Molecule(smiles=\"C[CH]CCOO\")], molecular_weight=(89.1131,'amu')), Species(index=68, label=\"CC1CCO1\", thermo=NASA(polynomials=[NASAPolynomial(coeffs=[2.60715,0.0163699,6.5647e-05,-9.99119e-08,4.19663e-11,-15901.6,14.375], Tmin=(100,'K'), Tmax=(884.96,'K')), NASAPolynomial(coeffs=[10.4297,0.018945,-3.01355e-06,2.48219e-10,-1.18959e-14,-18771.5,-30.8005], Tmin=(884.96,'K'), Tmax=(5000,'K'))], Tmin=(100,'K'), Tmax=(5000,'K'), comment=\"\"\"Thermo group additivity estimation: group(O2s-CsCs) + group(Cs-CsCsOsH) + group(Cs-CsCsHH) + group(Cs-CsOsHH) + group(Cs-CsHHH) + ring(Oxetane)\"\"\"), molecule=[Molecule(smiles=\"CC1CCO1\")], molecular_weight=(72.1057,'amu')))],)"
      ]
     },
     "execution_count": 37,
     "metadata": {},
     "output_type": "execute_result"
    }
   ],
   "source": [
    "reaction_list2[861]"
   ]
  },
  {
   "cell_type": "code",
   "execution_count": null,
   "id": "615238f5",
   "metadata": {},
   "outputs": [],
   "source": []
  },
  {
   "cell_type": "code",
   "execution_count": 33,
   "id": "30d5e636",
   "metadata": {},
   "outputs": [
    {
     "data": {
      "text/plain": [
       "2930"
      ]
     },
     "execution_count": 33,
     "metadata": {},
     "output_type": "execute_result"
    }
   ],
   "source": [
    "len(reaction_list2)"
   ]
  },
  {
   "cell_type": "code",
   "execution_count": 42,
   "id": "8b558ae0",
   "metadata": {},
   "outputs": [
    {
     "name": "stdout",
     "output_type": "stream",
     "text": [
      "C[CH]CCOO(335) <=> OH(15) + CC1CCO1(68)\n"
     ]
    }
   ],
   "source": [
    "print(reaction_list2[861])"
   ]
  },
  {
   "cell_type": "code",
   "execution_count": null,
   "id": "2c3b9661",
   "metadata": {},
   "outputs": [],
   "source": []
  },
  {
   "cell_type": "code",
   "execution_count": 15,
   "id": "2f5739ca",
   "metadata": {},
   "outputs": [
    {
     "name": "stdout",
     "output_type": "stream",
     "text": [
      "93 HO2(16) + [CH2]CCC(24)(19) <=> O2(2) + butane(1)\n",
      "96 H2O2(17) + [CH2]CCC(24)(19) <=> HO2(16) + butane(1)\n"
     ]
    }
   ],
   "source": [
    "PC4H9 = species_list2[get_i_thing(rmgpy.species.Species(smiles='[CH2]CCC'), species_list2)]\n",
    "butane = species_list2[get_i_thing(rmgpy.species.Species(smiles='CCCC'), species_list2)]\n",
    "\n",
    "HO2 = species_list2[get_i_thing(rmgpy.species.Species(smiles='O[O]'), species_list2)]\n",
    "H2O2 = species_list2[get_i_thing(rmgpy.species.Species(smiles='OO'), species_list2)]\n",
    "\n",
    "for i in range(len(reaction_list2)):\n",
    "\n",
    "    \n",
    "    if butane in reaction_list2[i].reactants and PC4H9 in reaction_list2[i].products or \\\n",
    "            PC4H9 in reaction_list2[i].reactants and butane in reaction_list2[i].products:\n",
    "        \n",
    "        if HO2 in reaction_list2[i].reactants + reaction_list2[i].products or H2O2 in reaction_list2[i].reactants + reaction_list2[i].products:\n",
    "        \n",
    "            print(i, reaction_list2[i])\n",
    "    \n",
    "    \n",
    "#     print(reaction_list2[i])"
   ]
  },
  {
   "cell_type": "code",
   "execution_count": 16,
   "id": "7de279e6",
   "metadata": {},
   "outputs": [
    {
     "data": {
      "text/plain": [
       "4767"
      ]
     },
     "execution_count": 16,
     "metadata": {},
     "output_type": "execute_result"
    }
   ],
   "source": [
    "database_fun.get_unique_reaction_index(reaction_list2[82])"
   ]
  },
  {
   "cell_type": "code",
   "execution_count": 17,
   "id": "2bf09dbb",
   "metadata": {},
   "outputs": [
    {
     "data": {
      "text/plain": [
       "1036"
      ]
     },
     "execution_count": 17,
     "metadata": {},
     "output_type": "execute_result"
    }
   ],
   "source": [
    "len(reaction_list1)"
   ]
  },
  {
   "cell_type": "code",
   "execution_count": 18,
   "id": "eca51398",
   "metadata": {},
   "outputs": [
    {
     "data": {
      "text/plain": [
       "2930"
      ]
     },
     "execution_count": 18,
     "metadata": {},
     "output_type": "execute_result"
    }
   ],
   "source": [
    "len(reaction_list2)"
   ]
  },
  {
   "cell_type": "code",
   "execution_count": 19,
   "id": "2543c9be",
   "metadata": {},
   "outputs": [
    {
     "data": {
      "text/plain": [
       "148"
      ]
     },
     "execution_count": 19,
     "metadata": {},
     "output_type": "execute_result"
    }
   ],
   "source": [
    "len(species_list1)"
   ]
  },
  {
   "cell_type": "code",
   "execution_count": 20,
   "id": "fa7c223e",
   "metadata": {},
   "outputs": [
    {
     "data": {
      "text/plain": [
       "146"
      ]
     },
     "execution_count": 20,
     "metadata": {},
     "output_type": "execute_result"
    }
   ],
   "source": [
    "len(species_list2)"
   ]
  },
  {
   "cell_type": "code",
   "execution_count": null,
   "id": "de5c8d40",
   "metadata": {},
   "outputs": [],
   "source": []
  },
  {
   "cell_type": "code",
   "execution_count": 40,
   "id": "6b8678c5",
   "metadata": {},
   "outputs": [
    {
     "data": {
      "text/plain": [
       "Arrhenius(A=(1.7739,'cm^3/(mol*s)'), n=3.328, Ea=(1.143,'kcal/mol'), T0=(1,'K'), comment=\"\"\"Estimated using an average for rate rule [H2O2;C_rad/H2/Cs]\n",
       "Euclidian distance = 0\n",
       "Multiplied by reaction path degeneracy 2.0\n",
       "family: H_Abstraction\"\"\")"
      ]
     },
     "execution_count": 40,
     "metadata": {},
     "output_type": "execute_result"
    }
   ],
   "source": [
    "reaction_list2[82].kinetics"
   ]
  },
  {
   "cell_type": "code",
   "execution_count": 41,
   "id": "277385d6",
   "metadata": {},
   "outputs": [
    {
     "data": {
      "text/plain": [
       "82"
      ]
     },
     "execution_count": 41,
     "metadata": {},
     "output_type": "execute_result"
    }
   ],
   "source": [
    "get_i_thing(reaction_list2[82], reaction_list1)"
   ]
  },
  {
   "cell_type": "code",
   "execution_count": 42,
   "id": "646addb5",
   "metadata": {},
   "outputs": [
    {
     "data": {
      "text/plain": [
       "Arrhenius(A=(0.0641522,'cm^3/(mol*s)'), n=3.951, Ea=(-21.281,'kcal/mol'), T0=(1,'K'), comment=\"\"\"Fitted to 50 data points; dA = *|/ 1.24987, dn = +|- 0.0293029, dEa = +|- 0.159466 kJ/mol\"\"\")"
      ]
     },
     "execution_count": 42,
     "metadata": {},
     "output_type": "execute_result"
    }
   ],
   "source": [
    "reaction_list1[82].kinetics"
   ]
  },
  {
   "cell_type": "code",
   "execution_count": 43,
   "id": "cb3bf6f3",
   "metadata": {},
   "outputs": [
    {
     "data": {
      "image/png": "[encoded data removed]",
      "text/plain": [
       "TemplateReaction(index=92, reactants=[Species(index=17, label=\"H2O2\", thermo=NASA(polynomials=[NASAPolynomial(coeffs=[3.72867,0.00413382,5.67479e-06,-1.01863e-08,4.28601e-12,-17696.4,5.35913], Tmin=(100,'K'), Tmax=(923.28,'K')), NASAPolynomial(coeffs=[4.95153,0.00354228,-1.01039e-06,1.61939e-10,-1.10207e-14,-18122.8,-1.52919], Tmin=(923.28,'K'), Tmax=(5000,'K'))], Tmin=(100,'K'), Tmax=(5000,'K'), comment=\"\"\"Thermo library: BurkeH2O2\"\"\"), molecule=[Molecule(smiles=\"OO\")], molecular_weight=(34.0147,'amu')), Species(index=24, label=\"[CH2]CCC\", thermo=NASA(polynomials=[NASAPolynomial(coeffs=[2.34849,0.0291322,9.83701e-06,-2.60513e-08,1.01154e-11,7395.26,17.3201], Tmin=(100,'K'), Tmax=(1048.1,'K')), NASAPolynomial(coeffs=[7.21568,0.0270038,-1.06548e-05,1.95473e-09,-1.35979e-13,5471.66,-10.6993], Tmin=(1048.1,'K'), Tmax=(5000,'K'))], Tmin=(100,'K'), Tmax=(5000,'K'), comment=\"\"\"Thermo group additivity estimation: group(Cs-CsCsHH) + group(Cs-CsCsHH) + group(Cs-CsHHH) + group(Cs-CsHHH) + radical(RCCJ)\"\"\"), molecule=[Molecule(smiles=\"[CH2]CCC\")], molecular_weight=(57.1143,'amu'))], products=[Species(index=16, label=\"HO2\", thermo=NASA(polynomials=[NASAPolynomial(coeffs=[4.02956,-0.00263991,1.52232e-05,-1.71674e-08,6.26751e-12,322.677,4.84426], Tmin=(100,'K'), Tmax=(923.91,'K')), NASAPolynomial(coeffs=[4.15132,0.00191148,-4.11288e-07,6.34989e-11,-4.86412e-15,83.4261,3.09348], Tmin=(923.91,'K'), Tmax=(5000,'K'))], Tmin=(100,'K'), Tmax=(5000,'K'), comment=\"\"\"Thermo library: BurkeH2O2\"\"\"), molecule=[Molecule(smiles=\"[O]O\")], molecular_weight=(33.0068,'amu')), Species(index=1, label=\"butane\", thermo=NASA(polynomials=[NASAPolynomial(coeffs=[2.31394,0.028376,2.03224e-05,-3.82742e-08,1.45041e-11,-17287.5,14.964], Tmin=(100,'K'), Tmax=(1025.39,'K')), NASAPolynomial(coeffs=[7.36809,0.0293849,-1.14714e-05,2.1084e-09,-1.47486e-13,-19413.6,-14.8589], Tmin=(1025.39,'K'), Tmax=(5000,'K'))], Tmin=(100,'K'), Tmax=(5000,'K'), comment=\"\"\"Thermo group additivity estimation: group(Cs-CsCsHH) + group(Cs-CsCsHH) + group(Cs-CsHHH) + group(Cs-CsHHH)\"\"\"), molecule=[Molecule(smiles=\"CCCC\")], molecular_weight=(58.1223,'amu'))], kinetics=Arrhenius(A=(0.0641522,'cm^3/(mol*s)'), n=3.951, Ea=(-21.281,'kcal/mol'), T0=(1,'K'), comment=\"\"\"Fitted to 50 data points; dA = *|/ 1.24987, dn = +|- 0.0293029, dEa = +|- 0.159466 kJ/mol\"\"\"), pairs=[(Species(index=17, label=\"H2O2\", thermo=NASA(polynomials=[NASAPolynomial(coeffs=[3.72867,0.00413382,5.67479e-06,-1.01863e-08,4.28601e-12,-17696.4,5.35913], Tmin=(100,'K'), Tmax=(923.28,'K')), NASAPolynomial(coeffs=[4.95153,0.00354228,-1.01039e-06,1.61939e-10,-1.10207e-14,-18122.8,-1.52919], Tmin=(923.28,'K'), Tmax=(5000,'K'))], Tmin=(100,'K'), Tmax=(5000,'K'), comment=\"\"\"Thermo library: BurkeH2O2\"\"\"), molecule=[Molecule(smiles=\"OO\")], molecular_weight=(34.0147,'amu')), Species(index=16, label=\"HO2\", thermo=NASA(polynomials=[NASAPolynomial(coeffs=[4.02956,-0.00263991,1.52232e-05,-1.71674e-08,6.26751e-12,322.677,4.84426], Tmin=(100,'K'), Tmax=(923.91,'K')), NASAPolynomial(coeffs=[4.15132,0.00191148,-4.11288e-07,6.34989e-11,-4.86412e-15,83.4261,3.09348], Tmin=(923.91,'K'), Tmax=(5000,'K'))], Tmin=(100,'K'), Tmax=(5000,'K'), comment=\"\"\"Thermo library: BurkeH2O2\"\"\"), molecule=[Molecule(smiles=\"[O]O\")], molecular_weight=(33.0068,'amu'))), (Species(index=24, label=\"[CH2]CCC\", thermo=NASA(polynomials=[NASAPolynomial(coeffs=[2.34849,0.0291322,9.83701e-06,-2.60513e-08,1.01154e-11,7395.26,17.3201], Tmin=(100,'K'), Tmax=(1048.1,'K')), NASAPolynomial(coeffs=[7.21568,0.0270038,-1.06548e-05,1.95473e-09,-1.35979e-13,5471.66,-10.6993], Tmin=(1048.1,'K'), Tmax=(5000,'K'))], Tmin=(100,'K'), Tmax=(5000,'K'), comment=\"\"\"Thermo group additivity estimation: group(Cs-CsCsHH) + group(Cs-CsCsHH) + group(Cs-CsHHH) + group(Cs-CsHHH) + radical(RCCJ)\"\"\"), molecule=[Molecule(smiles=\"[CH2]CCC\")], molecular_weight=(57.1143,'amu')), Species(index=1, label=\"butane\", thermo=NASA(polynomials=[NASAPolynomial(coeffs=[2.31394,0.028376,2.03224e-05,-3.82742e-08,1.45041e-11,-17287.5,14.964], Tmin=(100,'K'), Tmax=(1025.39,'K')), NASAPolynomial(coeffs=[7.36809,0.0293849,-1.14714e-05,2.1084e-09,-1.47486e-13,-19413.6,-14.8589], Tmin=(1025.39,'K'), Tmax=(5000,'K'))], Tmin=(100,'K'), Tmax=(5000,'K'), comment=\"\"\"Thermo group additivity estimation: group(Cs-CsCsHH) + group(Cs-CsCsHH) + group(Cs-CsHHH) + group(Cs-CsHHH)\"\"\"), molecule=[Molecule(smiles=\"CCCC\")], molecular_weight=(58.1223,'amu')))], family='H_Abstraction')"
      ]
     },
     "execution_count": 43,
     "metadata": {},
     "output_type": "execute_result"
    }
   ],
   "source": [
    "reaction_list1[82]"
   ]
  },
  {
   "cell_type": "code",
   "execution_count": 44,
   "id": "caf31ecd",
   "metadata": {},
   "outputs": [
    {
     "data": {
      "image/png": "[encoded data removed]",
      "text/plain": [
       "TemplateReaction(index=92, reactants=[Species(index=17, label=\"H2O2\", thermo=NASA(polynomials=[NASAPolynomial(coeffs=[3.72867,0.00413382,5.67479e-06,-1.01863e-08,4.28601e-12,-17696.4,5.35913], Tmin=(100,'K'), Tmax=(923.28,'K')), NASAPolynomial(coeffs=[4.95153,0.00354228,-1.01039e-06,1.61939e-10,-1.10207e-14,-18122.8,-1.52919], Tmin=(923.28,'K'), Tmax=(5000,'K'))], Tmin=(100,'K'), Tmax=(5000,'K'), comment=\"\"\"Thermo library: BurkeH2O2\"\"\"), molecule=[Molecule(smiles=\"OO\")], molecular_weight=(34.0147,'amu')), Species(index=24, label=\"[CH2]CCC\", thermo=NASA(polynomials=[NASAPolynomial(coeffs=[2.34849,0.0291322,9.83701e-06,-2.60513e-08,1.01154e-11,7395.26,17.3201], Tmin=(100,'K'), Tmax=(1048.1,'K')), NASAPolynomial(coeffs=[7.21568,0.0270038,-1.06548e-05,1.95473e-09,-1.35979e-13,5471.66,-10.6993], Tmin=(1048.1,'K'), Tmax=(5000,'K'))], Tmin=(100,'K'), Tmax=(5000,'K'), comment=\"\"\"Thermo group additivity estimation: group(Cs-CsCsHH) + group(Cs-CsCsHH) + group(Cs-CsHHH) + group(Cs-CsHHH) + radical(RCCJ)\"\"\"), molecule=[Molecule(smiles=\"[CH2]CCC\")], molecular_weight=(57.1143,'amu'))], products=[Species(index=16, label=\"HO2\", thermo=NASA(polynomials=[NASAPolynomial(coeffs=[4.02956,-0.00263991,1.52232e-05,-1.71674e-08,6.26751e-12,322.677,4.84426], Tmin=(100,'K'), Tmax=(923.91,'K')), NASAPolynomial(coeffs=[4.15132,0.00191148,-4.11288e-07,6.34989e-11,-4.86412e-15,83.4261,3.09348], Tmin=(923.91,'K'), Tmax=(5000,'K'))], Tmin=(100,'K'), Tmax=(5000,'K'), comment=\"\"\"Thermo library: BurkeH2O2\"\"\"), molecule=[Molecule(smiles=\"[O]O\")], molecular_weight=(33.0068,'amu')), Species(index=1, label=\"butane\", thermo=NASA(polynomials=[NASAPolynomial(coeffs=[2.31394,0.028376,2.03224e-05,-3.82742e-08,1.45041e-11,-17287.5,14.964], Tmin=(100,'K'), Tmax=(1025.39,'K')), NASAPolynomial(coeffs=[7.36809,0.0293849,-1.14714e-05,2.1084e-09,-1.47486e-13,-19413.6,-14.8589], Tmin=(1025.39,'K'), Tmax=(5000,'K'))], Tmin=(100,'K'), Tmax=(5000,'K'), comment=\"\"\"Thermo group additivity estimation: group(Cs-CsCsHH) + group(Cs-CsCsHH) + group(Cs-CsHHH) + group(Cs-CsHHH)\"\"\"), molecule=[Molecule(smiles=\"CCCC\")], molecular_weight=(58.1223,'amu'))], kinetics=Arrhenius(A=(1.7739,'cm^3/(mol*s)'), n=3.328, Ea=(1.143,'kcal/mol'), T0=(1,'K'), comment=\"\"\"Estimated using an average for rate rule [H2O2;C_rad/H2/Cs]\n",
       "Euclidian distance = 0\n",
       "Multiplied by reaction path degeneracy 2.0\n",
       "family: H_Abstraction\"\"\"), degeneracy=2.0, pairs=[(Species(index=17, label=\"H2O2\", thermo=NASA(polynomials=[NASAPolynomial(coeffs=[3.72867,0.00413382,5.67479e-06,-1.01863e-08,4.28601e-12,-17696.4,5.35913], Tmin=(100,'K'), Tmax=(923.28,'K')), NASAPolynomial(coeffs=[4.95153,0.00354228,-1.01039e-06,1.61939e-10,-1.10207e-14,-18122.8,-1.52919], Tmin=(923.28,'K'), Tmax=(5000,'K'))], Tmin=(100,'K'), Tmax=(5000,'K'), comment=\"\"\"Thermo library: BurkeH2O2\"\"\"), molecule=[Molecule(smiles=\"OO\")], molecular_weight=(34.0147,'amu')), Species(index=16, label=\"HO2\", thermo=NASA(polynomials=[NASAPolynomial(coeffs=[4.02956,-0.00263991,1.52232e-05,-1.71674e-08,6.26751e-12,322.677,4.84426], Tmin=(100,'K'), Tmax=(923.91,'K')), NASAPolynomial(coeffs=[4.15132,0.00191148,-4.11288e-07,6.34989e-11,-4.86412e-15,83.4261,3.09348], Tmin=(923.91,'K'), Tmax=(5000,'K'))], Tmin=(100,'K'), Tmax=(5000,'K'), comment=\"\"\"Thermo library: BurkeH2O2\"\"\"), molecule=[Molecule(smiles=\"[O]O\")], molecular_weight=(33.0068,'amu'))), (Species(index=24, label=\"[CH2]CCC\", thermo=NASA(polynomials=[NASAPolynomial(coeffs=[2.34849,0.0291322,9.83701e-06,-2.60513e-08,1.01154e-11,7395.26,17.3201], Tmin=(100,'K'), Tmax=(1048.1,'K')), NASAPolynomial(coeffs=[7.21568,0.0270038,-1.06548e-05,1.95473e-09,-1.35979e-13,5471.66,-10.6993], Tmin=(1048.1,'K'), Tmax=(5000,'K'))], Tmin=(100,'K'), Tmax=(5000,'K'), comment=\"\"\"Thermo group additivity estimation: group(Cs-CsCsHH) + group(Cs-CsCsHH) + group(Cs-CsHHH) + group(Cs-CsHHH) + radical(RCCJ)\"\"\"), molecule=[Molecule(smiles=\"[CH2]CCC\")], molecular_weight=(57.1143,'amu')), Species(index=1, label=\"butane\", thermo=NASA(polynomials=[NASAPolynomial(coeffs=[2.31394,0.028376,2.03224e-05,-3.82742e-08,1.45041e-11,-17287.5,14.964], Tmin=(100,'K'), Tmax=(1025.39,'K')), NASAPolynomial(coeffs=[7.36809,0.0293849,-1.14714e-05,2.1084e-09,-1.47486e-13,-19413.6,-14.8589], Tmin=(1025.39,'K'), Tmax=(5000,'K'))], Tmin=(100,'K'), Tmax=(5000,'K'), comment=\"\"\"Thermo group additivity estimation: group(Cs-CsCsHH) + group(Cs-CsCsHH) + group(Cs-CsHHH) + group(Cs-CsHHH)\"\"\"), molecule=[Molecule(smiles=\"CCCC\")], molecular_weight=(58.1223,'amu')))], family='H_Abstraction', template=['H2O2', 'C_rad/H2/Cs'])"
      ]
     },
     "execution_count": 44,
     "metadata": {},
     "output_type": "execute_result"
    }
   ],
   "source": [
    "reaction_list2[82]"
   ]
  },
  {
   "cell_type": "code",
   "execution_count": 21,
   "id": "e475e772",
   "metadata": {},
   "outputs": [],
   "source": [
    "def get_reverse_reaction(reaction):\n",
    "    assert reaction.kinetics is not None\n",
    "    rev_reaction = copy.deepcopy(reaction)\n",
    "    tmp_reactants = rev_reaction.reactants\n",
    "    rev_reaction.reactants = rev_reaction.products\n",
    "    rev_reaction.products = tmp_reactants\n",
    "    rev_reaction.kinetics = reaction.generate_reverse_rate_coefficient()\n",
    "    return rev_reaction"
   ]
  },
  {
   "cell_type": "code",
   "execution_count": 50,
   "id": "ebecbbb4",
   "metadata": {},
   "outputs": [
    {
     "data": {
      "text/plain": [
       "Arrhenius(A=(2.76496e-07,'m^3/(mol*s)'), n=4.18682, Ea=(-32.7841,'kJ/mol'), T0=(1,'K'), Tmin=(303.03,'K'), Tmax=(2000,'K'), comment=\"\"\"Fitted to 29 data points; dA = *|/ 1.16301, dn = +|- 0.0199922, dEa = +|- 0.104515 kJ/mol\"\"\")"
      ]
     },
     "execution_count": 50,
     "metadata": {},
     "output_type": "execute_result"
    }
   ],
   "source": [
    "get_reverse_reaction(reaction_list1[82]).kinetics"
   ]
  },
  {
   "cell_type": "code",
   "execution_count": 52,
   "id": "5e3ece32",
   "metadata": {},
   "outputs": [
    {
     "data": {
      "text/plain": [
       "Arrhenius(A=(7.6455e-06,'m^3/(mol*s)'), n=3.56382, Ea=(61.0379,'kJ/mol'), T0=(1,'K'), Tmin=(303.03,'K'), Tmax=(2000,'K'), comment=\"\"\"Fitted to 29 data points; dA = *|/ 1.16301, dn = +|- 0.0199922, dEa = +|- 0.104515 kJ/mol\"\"\")"
      ]
     },
     "execution_count": 52,
     "metadata": {},
     "output_type": "execute_result"
    }
   ],
   "source": [
    "get_reverse_reaction(reaction_list2[82]).kinetics"
   ]
  },
  {
   "cell_type": "code",
   "execution_count": null,
   "id": "6b8031ee",
   "metadata": {},
   "outputs": [],
   "source": [
    "rmgpy.chemkin.load_chemkin_file()"
   ]
  },
  {
   "cell_type": "code",
   "execution_count": null,
   "id": "3105f647",
   "metadata": {},
   "outputs": [],
   "source": []
  },
  {
   "cell_type": "code",
   "execution_count": 19,
   "id": "8e969fe2",
   "metadata": {},
   "outputs": [
    {
     "name": "stdout",
     "output_type": "stream",
     "text": [
      "34 HO2(16) + C[CH]CC(23) <=> O2(2) + butane(1)\n",
      "39 H2O2(17) + C[CH]CC(23) <=> HO2(16) + butane(1)\n"
     ]
    }
   ],
   "source": [
    "SC4H9 = species_list2[get_i_thing(rmgpy.species.Species(smiles='C[CH]CC'), species_list2)]\n",
    "butane = species_list2[get_i_thing(rmgpy.species.Species(smiles='CCCC'), species_list2)]\n",
    "\n",
    "HO2 = species_list2[get_i_thing(rmgpy.species.Species(smiles='O[O]'), species_list2)]\n",
    "H2O2 = species_list2[get_i_thing(rmgpy.species.Species(smiles='OO'), species_list2)]\n",
    "\n",
    "for i in range(len(reaction_list2)):\n",
    "\n",
    "    \n",
    "    if butane in reaction_list2[i].reactants and SC4H9 in reaction_list2[i].products or \\\n",
    "            SC4H9 in reaction_list2[i].reactants and butane in reaction_list2[i].products:\n",
    "        \n",
    "        if HO2 in reaction_list2[i].reactants + reaction_list2[i].products or H2O2 in reaction_list2[i].reactants + reaction_list2[i].products:\n",
    "        \n",
    "            print(i, reaction_list2[i])\n",
    "    \n",
    "    \n",
    "#     print(reaction_list2[i])"
   ]
  },
  {
   "cell_type": "code",
   "execution_count": 20,
   "id": "6226719c",
   "metadata": {},
   "outputs": [
    {
     "name": "stdout",
     "output_type": "stream",
     "text": [
      "HO2(16) + C[CH]CC(23) <=> O2(2) + butane(1)\n"
     ]
    }
   ],
   "source": [
    "print(reaction_list2[34])"
   ]
  },
  {
   "cell_type": "code",
   "execution_count": 21,
   "id": "40b857b9",
   "metadata": {},
   "outputs": [
    {
     "data": {
      "text/plain": [
       "4721"
      ]
     },
     "execution_count": 21,
     "metadata": {},
     "output_type": "execute_result"
    }
   ],
   "source": [
    "database_fun.get_unique_reaction_index(reaction_list2[34])"
   ]
  },
  {
   "cell_type": "code",
   "execution_count": 47,
   "id": "8ae33294",
   "metadata": {},
   "outputs": [
    {
     "data": {
      "text/plain": [
       "(121, 148)"
      ]
     },
     "execution_count": 47,
     "metadata": {},
     "output_type": "execute_result"
    }
   ],
   "source": [
    "sp70 = species_list2[get_i_thing(rmgpy.species.Species(smiles='C[CH]CCOO'), species_list2)]\n",
    "sp68 = species_list2[get_i_thing(rmgpy.species.Species(smiles='CC1CCO1'), species_list2)]"
   ]
  },
  {
   "cell_type": "code",
   "execution_count": 58,
   "id": "4eea5ed6",
   "metadata": {},
   "outputs": [],
   "source": [
    "sp73 = species_list2[get_i_thing(rmgpy.species.Species(smiles='CCO[O]CCOO'), species_list2)]"
   ]
  },
  {
   "cell_type": "code",
   "execution_count": 62,
   "id": "efef3139",
   "metadata": {},
   "outputs": [],
   "source": [
    "i_70_1 = get_i_thing(rmgpy.species.Species(smiles='C[CH]CCOO'), species_list1)\n",
    "i_70_2 = get_i_thing(rmgpy.species.Species(smiles='C[CH]CCOO'), species_list2)\n",
    "\n",
    "i_73_1 = get_i_thing(rmgpy.species.Species(smiles='CC(O[O])CCOO'), species_list1)\n",
    "i_73_2 = get_i_thing(rmgpy.species.Species(smiles='CC(O[O])CCOO'), species_list2)"
   ]
  },
  {
   "cell_type": "code",
   "execution_count": 63,
   "id": "e3370f05",
   "metadata": {},
   "outputs": [
    {
     "data": {
      "image/png": "[encoded data removed]",
      "text/plain": [
       "Species(index=140, label=\"CC(CCOO)O[O]\", thermo=NASA(polynomials=[NASAPolynomial(coeffs=[3.22721,0.0786251,-8.68737e-05,6.42441e-08,-2.27641e-11,-21482.9,14.9728], Tmin=(10,'K'), Tmax=(609.09,'K')), NASAPolynomial(coeffs=[6.15814,0.0593772,-3.94718e-05,1.23613e-08,-1.46882e-12,-21839.9,2.28588], Tmin=(609.09,'K'), Tmax=(3000,'K'))], Tmin=(10,'K'), Tmax=(3000,'K'), comment=\"\"\"Thermo library: harris_butane_0003\"\"\"), molecule=[Molecule(smiles=\"CC(CCOO)O[O]\")], molecular_weight=(121.112,'amu'))"
      ]
     },
     "execution_count": 63,
     "metadata": {},
     "output_type": "execute_result"
    }
   ],
   "source": [
    "species_list1[i_73_1]"
   ]
  },
  {
   "cell_type": "code",
   "execution_count": 64,
   "id": "9ef1b453",
   "metadata": {},
   "outputs": [
    {
     "data": {
      "image/png": "[encoded data removed]",
      "text/plain": [
       "Species(index=146, label=\"CC(CCOO)O[O]\", thermo=NASA(polynomials=[NASAPolynomial(coeffs=[3.50507,0.0695171,-5.1558e-05,1.84287e-08,-2.56226e-12,-22846.2,13.2984], Tmin=(10,'K'), Tmax=(1934.33,'K')), NASAPolynomial(coeffs=[9.62549,0.0457214,-2.44672e-05,6.11479e-09,-5.85984e-13,-23130,-14.8803], Tmin=(1934.33,'K'), Tmax=(3000,'K'))], Tmin=(10,'K'), Tmax=(3000,'K'), comment=\"\"\"Thermo library: harris_butane_min_0003\"\"\"), molecule=[Molecule(smiles=\"CC(CCOO)O[O]\")], molecular_weight=(121.112,'amu'))"
      ]
     },
     "execution_count": 64,
     "metadata": {},
     "output_type": "execute_result"
    }
   ],
   "source": [
    "species_list2[i_73_2]"
   ]
  },
  {
   "cell_type": "code",
   "execution_count": 66,
   "id": "a8560b71",
   "metadata": {},
   "outputs": [
    {
     "name": "stdout",
     "output_type": "stream",
     "text": [
      "140 O2(2) + C[CH]CCOO(335) <=> CC(CCOO)O[O](146)\n",
      "419 C[CH]CCOO(335) + CC(CCOO)OO(148) <=> CC(CCOO)O[O](146) + CCCCOO(226)(21)\n"
     ]
    }
   ],
   "source": [
    "for i in range(len(reaction_list2)):\n",
    "\n",
    "    if species_list2[i_73_2] in reaction_list2[i].reactants and species_list2[i_70_2] in reaction_list2[i].products or \\\n",
    "            species_list2[i_70_2] in reaction_list2[i].reactants and species_list2[i_73_2] in reaction_list2[i].products:\n",
    "        print(i, reaction_list2[i])"
   ]
  },
  {
   "cell_type": "code",
   "execution_count": 69,
   "id": "d3363c3d",
   "metadata": {},
   "outputs": [
    {
     "data": {
      "text/plain": [
       "Arrhenius(A=(1.21695e+14,'cm^3/(mol*s)'), n=-0.429, Ea=(0,'kcal/mol'), T0=(1,'K'), comment=\"\"\"Estimated from node Root_N-1R->H_N-1CNOS->N_1COS->O_Ext-1O-R_Ext-2R-R_Ext-4R!H-R_Ext-2R-R_N-2R-inRing\n",
       "Multiplied by reaction path degeneracy 2.0\"\"\")"
      ]
     },
     "execution_count": 69,
     "metadata": {},
     "output_type": "execute_result"
    }
   ],
   "source": [
    "reaction_list2[140].kinetics"
   ]
  },
  {
   "cell_type": "code",
   "execution_count": 70,
   "id": "9cb7dada",
   "metadata": {},
   "outputs": [
    {
     "data": {
      "text/plain": [
       "131"
      ]
     },
     "execution_count": 70,
     "metadata": {},
     "output_type": "execute_result"
    }
   ],
   "source": [
    "get_i_thing(reaction_list2[140], reaction_list1)"
   ]
  },
  {
   "cell_type": "code",
   "execution_count": 72,
   "id": "6b22637c",
   "metadata": {},
   "outputs": [
    {
     "data": {
      "text/plain": [
       "Arrhenius(A=(1.21695e+14,'cm^3/(mol*s)'), n=-0.429, Ea=(0,'kcal/mol'), T0=(1,'K'), comment=\"\"\"Estimated from node Root_N-1R->H_N-1CNOS->N_1COS->O_Ext-1O-R_Ext-2R-R_Ext-4R!H-R_Ext-2R-R_N-2R-inRing\n",
       "Multiplied by reaction path degeneracy 2.0\"\"\")"
      ]
     },
     "execution_count": 72,
     "metadata": {},
     "output_type": "execute_result"
    }
   ],
   "source": [
    "reaction_list1[131].kinetics"
   ]
  },
  {
   "cell_type": "code",
   "execution_count": null,
   "id": "53d87c19",
   "metadata": {},
   "outputs": [],
   "source": [
    "print(reaction_list1[131])"
   ]
  },
  {
   "cell_type": "code",
   "execution_count": null,
   "id": "76db803d",
   "metadata": {},
   "outputs": [],
   "source": []
  },
  {
   "cell_type": "code",
   "execution_count": null,
   "id": "3c30f690",
   "metadata": {},
   "outputs": [],
   "source": []
  },
  {
   "cell_type": "code",
   "execution_count": 67,
   "id": "c570c824",
   "metadata": {},
   "outputs": [
    {
     "data": {
      "text/plain": [
       "[<matplotlib.lines.Line2D at 0x7f7ffcaf8450>]"
      ]
     },
     "execution_count": 67,
     "metadata": {},
     "output_type": "execute_result"
    },
    {
     "data": {
      "image/png": "[encoded data removed]",
      "text/plain": [
       "<Figure size 640x480 with 1 Axes>"
      ]
     },
     "metadata": {},
     "output_type": "display_data"
    }
   ],
   "source": [
    "plt.plot(times2, reaction_rates2[:, 140], label='20240423')"
   ]
  },
  {
   "cell_type": "code",
   "execution_count": null,
   "id": "5e418d8f",
   "metadata": {},
   "outputs": [],
   "source": []
  },
  {
   "cell_type": "code",
   "execution_count": null,
   "id": "76cbfd03",
   "metadata": {},
   "outputs": [],
   "source": []
  },
  {
   "cell_type": "code",
   "execution_count": 65,
   "id": "b473a045",
   "metadata": {},
   "outputs": [
    {
     "data": {
      "text/plain": [
       "<matplotlib.legend.Legend at 0x7f7ffce84110>"
      ]
     },
     "execution_count": 65,
     "metadata": {},
     "output_type": "execute_result"
    },
    {
     "data": {
      "image/png": "[encoded data removed]",
      "text/plain": [
       "<Figure size 640x480 with 1 Axes>"
      ]
     },
     "metadata": {},
     "output_type": "display_data"
    }
   ],
   "source": [
    "plt.plot(times1, concentrations1[:, i_73_1], label='current')\n",
    "plt.plot(times2, concentrations2[:, i_73_2], label='20240423')\n",
    "plt.legend()"
   ]
  },
  {
   "cell_type": "code",
   "execution_count": 55,
   "id": "1ebad7c6",
   "metadata": {},
   "outputs": [
    {
     "data": {
      "text/plain": [
       "<matplotlib.legend.Legend at 0x7f7ffcc6c390>"
      ]
     },
     "execution_count": 55,
     "metadata": {},
     "output_type": "execute_result"
    },
    {
     "data": {
      "image/png": "[encoded data removed]",
      "text/plain": [
       "<Figure size 640x480 with 1 Axes>"
      ]
     },
     "metadata": {},
     "output_type": "display_data"
    }
   ],
   "source": [
    "plt.plot(times1, concentrations1[:, i_70_1], label='current')\n",
    "plt.plot(times2, concentrations2[:, i_70_2], label='20240423')\n",
    "plt.legend()"
   ]
  },
  {
   "cell_type": "code",
   "execution_count": null,
   "id": "8aaa0aff",
   "metadata": {},
   "outputs": [],
   "source": []
  },
  {
   "cell_type": "code",
   "execution_count": null,
   "id": "fefb3011",
   "metadata": {},
   "outputs": [],
   "source": []
  }
 ],
 "metadata": {
  "kernelspec": {
   "display_name": "Python 3 (ipykernel)",
   "language": "python",
   "name": "python3"
  },
  "language_info": {
   "codemirror_mode": {
    "name": "ipython",
    "version": 3
   },
   "file_extension": ".py",
   "mimetype": "text/x-python",
   "name": "python",
   "nbconvert_exporter": "python",
   "pygments_lexer": "ipython3",
   "version": "3.7.12"
  }
 },
 "nbformat": 4,
 "nbformat_minor": 5
}
